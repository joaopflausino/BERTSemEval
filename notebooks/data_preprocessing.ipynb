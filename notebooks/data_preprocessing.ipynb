{
 "cells": [
  {
   "cell_type": "markdown",
   "metadata": {},
   "source": [
    "# Data Preprocessing for BERT Sentiment Analysis\n",
    "\n",
    "This notebook processes the Twitter sentiment data by:\n",
    "- Removing duplicated tweets\n",
    "- Removing/anonymizing mentions (@user)\n",
    "- Cleaning text for better BERT training\n",
    "- Combining multiple training files into a single dataset"
   ]
  },
  {
   "cell_type": "code",
   "execution_count": 1,
   "metadata": {},
   "outputs": [],
   "source": [
    "import pandas as pd\n",
    "import numpy as np\n",
    "import re\n",
    "import os\n",
    "from pathlib import Path\n",
    "import matplotlib.pyplot as plt\n",
    "import seaborn as sns\n",
    "from collections import Counter"
   ]
  },
  {
   "cell_type": "code",
   "execution_count": 2,
   "metadata": {},
   "outputs": [],
   "source": [
    "# Set up paths\n",
    "dataset_path = Path('../dataset')\n",
    "train_path = dataset_path / 'train'\n",
    "test_path = dataset_path / 'test'\n",
    "output_path = dataset_path / 'processed'\n",
    "output_path.mkdir(exist_ok=True)"
   ]
  },
  {
   "cell_type": "markdown",
   "metadata": {},
   "source": [
    "## Load and Explore Data"
   ]
  },
  {
   "cell_type": "code",
   "execution_count": 3,
   "metadata": {},
   "outputs": [
    {
     "name": "stdout",
     "output_type": "stream",
     "text": [
      "Found 11 training files:\n",
      "  - twitter-2013test-A.txt\n",
      "  - twitter-2014test-A.txt\n",
      "  - twitter-2014sarcasm-A.txt\n",
      "  - twitter-2016devtest-A.txt\n",
      "  - twitter-2016train-A.txt\n",
      "  - twitter-2016dev-A.txt\n",
      "  - twitter-2013dev-A.txt\n",
      "  - twitter-2015test-A.txt\n",
      "  - twitter-2015train-A.txt\n",
      "  - twitter-2016test-A.txt\n",
      "  - twitter-2013train-A.txt\n",
      "twitter-2013test-A.txt: 3547 tweets\n",
      "twitter-2014test-A.txt: 1853 tweets\n",
      "twitter-2014sarcasm-A.txt: 86 tweets\n",
      "twitter-2016devtest-A.txt: 2000 tweets\n",
      "twitter-2016train-A.txt: 6000 tweets\n",
      "twitter-2016dev-A.txt: 1999 tweets\n",
      "twitter-2013dev-A.txt: 1654 tweets\n",
      "twitter-2015test-A.txt: 2390 tweets\n",
      "twitter-2015train-A.txt: 489 tweets\n",
      "twitter-2016test-A.txt: 20632 tweets\n",
      "twitter-2013train-A.txt: 9684 tweets\n",
      "\n",
      "Total tweets: 50334\n"
     ]
    }
   ],
   "source": [
    "def load_twitter_data(file_path):\n",
    "    \"\"\"Load Twitter data from tab-separated file.\"\"\"\n",
    "    data = []\n",
    "    with open(file_path, 'r', encoding='utf-8') as f:\n",
    "        for line in f:\n",
    "            parts = line.strip().split('\\t')\n",
    "            if len(parts) >= 3:\n",
    "                tweet_id, sentiment, text = parts[0], parts[1], '\\t'.join(parts[2:])\n",
    "                data.append({'tweet_id': tweet_id, 'sentiment': sentiment, 'text': text})\n",
    "    return pd.DataFrame(data)\n",
    "\n",
    "# Load all training files\n",
    "train_files = list(train_path.glob('*.txt'))\n",
    "print(f\"Found {len(train_files)} training files:\")\n",
    "for f in train_files:\n",
    "    print(f\"  - {f.name}\")\n",
    "\n",
    "# Load and combine all training data\n",
    "all_data = []\n",
    "for file_path in train_files:\n",
    "    df = load_twitter_data(file_path)\n",
    "    df['source_file'] = file_path.name\n",
    "    all_data.append(df)\n",
    "    print(f\"{file_path.name}: {len(df)} tweets\")\n",
    "\n",
    "# Combine all data\n",
    "combined_df = pd.concat(all_data, ignore_index=True)\n",
    "print(f\"\\nTotal tweets: {len(combined_df)}\")"
   ]
  },
  {
   "cell_type": "code",
   "execution_count": 4,
   "metadata": {},
   "outputs": [
    {
     "name": "stdout",
     "output_type": "stream",
     "text": [
      "Sentiment distribution:\n",
      "sentiment\n",
      "neutral     22591\n",
      "positive    19903\n",
      "negative     7840\n",
      "Name: count, dtype: int64\n",
      "\n",
      "Unique tweet IDs: 49570\n",
      "Total tweets: 50334\n",
      "Duplicates based on tweet_id: 764\n"
     ]
    }
   ],
   "source": [
    "# Display basic statistics\n",
    "print(\"Sentiment distribution:\")\n",
    "print(combined_df['sentiment'].value_counts())\n",
    "print(f\"\\nUnique tweet IDs: {combined_df['tweet_id'].nunique()}\")\n",
    "print(f\"Total tweets: {len(combined_df)}\")\n",
    "print(f\"Duplicates based on tweet_id: {len(combined_df) - combined_df['tweet_id'].nunique()}\")"
   ]
  },
  {
   "cell_type": "code",
   "execution_count": 5,
   "metadata": {},
   "outputs": [
    {
     "name": "stdout",
     "output_type": "stream",
     "text": [
      "Sample tweets:\n"
     ]
    },
    {
     "data": {
      "text/html": [
       "<div>\n",
       "<style scoped>\n",
       "    .dataframe tbody tr th:only-of-type {\n",
       "        vertical-align: middle;\n",
       "    }\n",
       "\n",
       "    .dataframe tbody tr th {\n",
       "        vertical-align: top;\n",
       "    }\n",
       "\n",
       "    .dataframe thead th {\n",
       "        text-align: right;\n",
       "    }\n",
       "</style>\n",
       "<table border=\"1\" class=\"dataframe\">\n",
       "  <thead>\n",
       "    <tr style=\"text-align: right;\">\n",
       "      <th></th>\n",
       "      <th>tweet_id</th>\n",
       "      <th>sentiment</th>\n",
       "      <th>text</th>\n",
       "      <th>source_file</th>\n",
       "    </tr>\n",
       "  </thead>\n",
       "  <tbody>\n",
       "    <tr>\n",
       "      <th>0</th>\n",
       "      <td>264238274963451904</td>\n",
       "      <td>positive</td>\n",
       "      <td>\"@jjuueellzz down in the Atlantic city, ventno...</td>\n",
       "      <td>twitter-2013test-A.txt</td>\n",
       "    </tr>\n",
       "    <tr>\n",
       "      <th>1</th>\n",
       "      <td>218775148495515649</td>\n",
       "      <td>positive</td>\n",
       "      <td>\"Musical awareness: Great Big Beautiful Tomorr...</td>\n",
       "      <td>twitter-2013test-A.txt</td>\n",
       "    </tr>\n",
       "    <tr>\n",
       "      <th>2</th>\n",
       "      <td>258965201766998017</td>\n",
       "      <td>neutral</td>\n",
       "      <td>On Radio786 100.4fm 7:10 Fri Oct 19 Labour ana...</td>\n",
       "      <td>twitter-2013test-A.txt</td>\n",
       "    </tr>\n",
       "    <tr>\n",
       "      <th>3</th>\n",
       "      <td>262926411352903682</td>\n",
       "      <td>negative</td>\n",
       "      <td>\"Kapan sih lo ngebuktiin,jan ngomong doang Sus...</td>\n",
       "      <td>twitter-2013test-A.txt</td>\n",
       "    </tr>\n",
       "    <tr>\n",
       "      <th>4</th>\n",
       "      <td>171874368908050432</td>\n",
       "      <td>neutral</td>\n",
       "      <td>\"Excuse the connectivity of this live stream, ...</td>\n",
       "      <td>twitter-2013test-A.txt</td>\n",
       "    </tr>\n",
       "    <tr>\n",
       "      <th>5</th>\n",
       "      <td>256010056942903296</td>\n",
       "      <td>positive</td>\n",
       "      <td>Show your LOVE for your local field &amp; it might...</td>\n",
       "      <td>twitter-2013test-A.txt</td>\n",
       "    </tr>\n",
       "    <tr>\n",
       "      <th>6</th>\n",
       "      <td>253809989599232000</td>\n",
       "      <td>neutral</td>\n",
       "      <td>\"Milton on Bolton Wanderers 2 v 2 Leeds United...</td>\n",
       "      <td>twitter-2013test-A.txt</td>\n",
       "    </tr>\n",
       "    <tr>\n",
       "      <th>7</th>\n",
       "      <td>261776619146985472</td>\n",
       "      <td>positive</td>\n",
       "      <td>@firecore Can you tell me when an update for t...</td>\n",
       "      <td>twitter-2013test-A.txt</td>\n",
       "    </tr>\n",
       "    <tr>\n",
       "      <th>8</th>\n",
       "      <td>264143999374356481</td>\n",
       "      <td>positive</td>\n",
       "      <td>\"@Heavensbasement The Crown, Filthy McNastys, ...</td>\n",
       "      <td>twitter-2013test-A.txt</td>\n",
       "    </tr>\n",
       "    <tr>\n",
       "      <th>9</th>\n",
       "      <td>223052929131757571</td>\n",
       "      <td>neutral</td>\n",
       "      <td>\"Uncover the Eternal City! Return flights to R...</td>\n",
       "      <td>twitter-2013test-A.txt</td>\n",
       "    </tr>\n",
       "  </tbody>\n",
       "</table>\n",
       "</div>"
      ],
      "text/plain": [
       "             tweet_id sentiment  \\\n",
       "0  264238274963451904  positive   \n",
       "1  218775148495515649  positive   \n",
       "2  258965201766998017   neutral   \n",
       "3  262926411352903682  negative   \n",
       "4  171874368908050432   neutral   \n",
       "5  256010056942903296  positive   \n",
       "6  253809989599232000   neutral   \n",
       "7  261776619146985472  positive   \n",
       "8  264143999374356481  positive   \n",
       "9  223052929131757571   neutral   \n",
       "\n",
       "                                                text             source_file  \n",
       "0  \"@jjuueellzz down in the Atlantic city, ventno...  twitter-2013test-A.txt  \n",
       "1  \"Musical awareness: Great Big Beautiful Tomorr...  twitter-2013test-A.txt  \n",
       "2  On Radio786 100.4fm 7:10 Fri Oct 19 Labour ana...  twitter-2013test-A.txt  \n",
       "3  \"Kapan sih lo ngebuktiin,jan ngomong doang Sus...  twitter-2013test-A.txt  \n",
       "4  \"Excuse the connectivity of this live stream, ...  twitter-2013test-A.txt  \n",
       "5  Show your LOVE for your local field & it might...  twitter-2013test-A.txt  \n",
       "6  \"Milton on Bolton Wanderers 2 v 2 Leeds United...  twitter-2013test-A.txt  \n",
       "7  @firecore Can you tell me when an update for t...  twitter-2013test-A.txt  \n",
       "8  \"@Heavensbasement The Crown, Filthy McNastys, ...  twitter-2013test-A.txt  \n",
       "9  \"Uncover the Eternal City! Return flights to R...  twitter-2013test-A.txt  "
      ]
     },
     "execution_count": 5,
     "metadata": {},
     "output_type": "execute_result"
    }
   ],
   "source": [
    "# Show some sample data\n",
    "print(\"Sample tweets:\")\n",
    "combined_df.head(10)"
   ]
  },
  {
   "cell_type": "markdown",
   "metadata": {},
   "source": [
    "## Data Cleaning Functions"
   ]
  },
  {
   "cell_type": "code",
   "execution_count": 6,
   "metadata": {},
   "outputs": [],
   "source": [
    "def remove_mentions(text):\n",
    "    \"\"\"Remove @mentions from text.\"\"\"\n",
    "    return re.sub(r'@\\w+', '@user', text)\n",
    "\n",
    "def clean_text(text):\n",
    "    \"\"\"Clean text for BERT training.\"\"\"\n",
    "    # Remove mentions\n",
    "    text = remove_mentions(text)\n",
    "    \n",
    "    # Remove URLs\n",
    "    text = re.sub(r'http\\S+|www\\S+|https\\S+', '', text, flags=re.MULTILINE)\n",
    "    \n",
    "    # Remove extra whitespace\n",
    "    text = re.sub(r'\\s+', ' ', text).strip()\n",
    "    \n",
    "    # Remove tweets that are too short after cleaning\n",
    "    if len(text.strip()) < 3:\n",
    "        return None\n",
    "    \n",
    "    return text\n",
    "\n",
    "def remove_duplicates(df):\n",
    "    \"\"\"Remove duplicate tweets based on tweet_id and text content.\"\"\"\n",
    "    print(f\"Before duplicate removal: {len(df)} tweets\")\n",
    "    \n",
    "    # Remove duplicates based on tweet_id\n",
    "    df_no_id_dups = df.drop_duplicates(subset=['tweet_id'], keep='first')\n",
    "    print(f\"After removing tweet_id duplicates: {len(df_no_id_dups)} tweets\")\n",
    "    \n",
    "    # Remove duplicates based on text content (after cleaning)\n",
    "    df_no_id_dups['cleaned_text'] = df_no_id_dups['text'].apply(clean_text)\n",
    "    \n",
    "    # Remove rows where text became None/empty after cleaning\n",
    "    df_cleaned = df_no_id_dups.dropna(subset=['cleaned_text'])\n",
    "    df_cleaned = df_cleaned[df_cleaned['cleaned_text'].str.len() > 0]\n",
    "    print(f\"After removing empty texts: {len(df_cleaned)} tweets\")\n",
    "    \n",
    "    # Remove text content duplicates\n",
    "    df_final = df_cleaned.drop_duplicates(subset=['cleaned_text'], keep='first')\n",
    "    print(f\"After removing text duplicates: {len(df_final)} tweets\")\n",
    "    \n",
    "    return df_final"
   ]
  },
  {
   "cell_type": "markdown",
   "metadata": {},
   "source": [
    "## Apply Data Cleaning"
   ]
  },
  {
   "cell_type": "code",
   "execution_count": 7,
   "metadata": {},
   "outputs": [
    {
     "name": "stdout",
     "output_type": "stream",
     "text": [
      "Before duplicate removal: 50334 tweets\n",
      "After removing tweet_id duplicates: 49570 tweets\n",
      "After removing empty texts: 49569 tweets\n",
      "After removing text duplicates: 49526 tweets\n",
      "\n",
      "Final dataset statistics:\n",
      "Total tweets: 49526\n",
      "\n",
      "Sentiment distribution:\n",
      "sentiment\n",
      "neutral     22171\n",
      "positive    19628\n",
      "negative     7727\n",
      "Name: count, dtype: int64\n",
      "\n",
      "Percentage distribution:\n",
      "sentiment\n",
      "neutral     44.766385\n",
      "positive    39.631709\n",
      "negative    15.601906\n",
      "Name: proportion, dtype: float64\n"
     ]
    },
    {
     "name": "stderr",
     "output_type": "stream",
     "text": [
      "/tmp/ipykernel_156917/2089268262.py:31: SettingWithCopyWarning: \n",
      "A value is trying to be set on a copy of a slice from a DataFrame.\n",
      "Try using .loc[row_indexer,col_indexer] = value instead\n",
      "\n",
      "See the caveats in the documentation: https://pandas.pydata.org/pandas-docs/stable/user_guide/indexing.html#returning-a-view-versus-a-copy\n",
      "  df_no_id_dups['cleaned_text'] = df_no_id_dups['text'].apply(clean_text)\n"
     ]
    }
   ],
   "source": [
    "# Remove duplicates and clean text\n",
    "cleaned_df = remove_duplicates(combined_df)\n",
    "\n",
    "# Update the text column with cleaned text\n",
    "cleaned_df['text'] = cleaned_df['cleaned_text']\n",
    "cleaned_df = cleaned_df.drop('cleaned_text', axis=1)\n",
    "\n",
    "print(\"\\nFinal dataset statistics:\")\n",
    "print(f\"Total tweets: {len(cleaned_df)}\")\n",
    "print(\"\\nSentiment distribution:\")\n",
    "print(cleaned_df['sentiment'].value_counts())\n",
    "print(\"\\nPercentage distribution:\")\n",
    "print(cleaned_df['sentiment'].value_counts(normalize=True) * 100)"
   ]
  },
  {
   "cell_type": "code",
   "execution_count": 8,
   "metadata": {},
   "outputs": [
    {
     "name": "stdout",
     "output_type": "stream",
     "text": [
      "Examples of original vs cleaned text:\n",
      "\n",
      "Original: The Bee Gees are coming to you this Friday. Call us on 01253625262 for more information or visit our website to book.\n",
      "Cleaned:  The Bee Gees are coming to you this Friday. Call us on 01253625262 for more information or visit our website to book.\n",
      "--------------------------------------------------------------------------------\n",
      "\n",
      "Original: \"It's a Monday, I'm in Muskoka, yet I'm not going to The Kee for Resort Night. What the fuck is happening?\"\n",
      "Cleaned:  \"It's a Monday, I'm in Muskoka, yet I'm not going to The Kee for Resort Night. What the fuck is happening?\"\n",
      "--------------------------------------------------------------------------------\n",
      "\n",
      "Original: \"@JohnRiversToo you're an idiot. Word is integrate, demanding to assimilate is an abuse.   2nd, Muslims can integrate fine if they want to.\"\n",
      "Cleaned:  \"@user you're an idiot. Word is integrate, demanding to assimilate is an abuse. 2nd, Muslims can integrate fine if they want to.\"\n",
      "--------------------------------------------------------------------------------\n",
      "\n",
      "Original: Just watched the 1st ever Elimination Chamber match I had no idea it was an hour long till it ended.\n",
      "Cleaned:  Just watched the 1st ever Elimination Chamber match I had no idea it was an hour long till it ended.\n",
      "--------------------------------------------------------------------------------\n",
      "\n",
      "Original: @alibrownlee We set off from Manchester a few years back after a Fleetwood Mac concert, preesed 'navigate to home' on the sat nav and set\n",
      "Cleaned:  @user We set off from Manchester a few years back after a Fleetwood Mac concert, preesed 'navigate to home' on the sat nav and set\n",
      "--------------------------------------------------------------------------------\n"
     ]
    }
   ],
   "source": [
    "# Show examples of cleaned text\n",
    "print(\"Examples of original vs cleaned text:\")\n",
    "sample_indices = np.random.choice(len(combined_df), 5, replace=False)\n",
    "\n",
    "for idx in sample_indices:\n",
    "    original = combined_df.iloc[idx]['text']\n",
    "    cleaned = clean_text(original)\n",
    "    if cleaned:\n",
    "        print(f\"\\nOriginal: {original}\")\n",
    "        print(f\"Cleaned:  {cleaned}\")\n",
    "        print(\"-\" * 80)"
   ]
  },
  {
   "cell_type": "markdown",
   "metadata": {},
   "source": [
    "## Data Quality Analysis"
   ]
  },
  {
   "cell_type": "code",
   "execution_count": 9,
   "metadata": {},
   "outputs": [
    {
     "name": "stdout",
     "output_type": "stream",
     "text": [
      "Text length statistics:\n",
      "        text_length    word_count\n",
      "count  49526.000000  49526.000000\n",
      "mean     106.729758     19.251464\n",
      "std       26.222633      4.944057\n",
      "min       10.000000      1.000000\n",
      "25%       89.000000     16.000000\n",
      "50%      112.000000     20.000000\n",
      "75%      128.000000     23.000000\n",
      "max      200.000000     35.000000\n"
     ]
    },
    {
     "data": {
      "image/png": "[encoded data removed]",
      "text/plain": [
       "<Figure size 1500x1000 with 4 Axes>"
      ]
     },
     "metadata": {},
     "output_type": "display_data"
    }
   ],
   "source": [
    "# Analyze text lengths\n",
    "cleaned_df['text_length'] = cleaned_df['text'].str.len()\n",
    "cleaned_df['word_count'] = cleaned_df['text'].str.split().str.len()\n",
    "\n",
    "print(\"Text length statistics:\")\n",
    "print(cleaned_df[['text_length', 'word_count']].describe())\n",
    "\n",
    "# Plot distributions\n",
    "fig, axes = plt.subplots(2, 2, figsize=(15, 10))\n",
    "\n",
    "# Sentiment distribution\n",
    "cleaned_df['sentiment'].value_counts().plot(kind='bar', ax=axes[0,0])\n",
    "axes[0,0].set_title('Sentiment Distribution')\n",
    "axes[0,0].set_ylabel('Count')\n",
    "\n",
    "# Text length distribution\n",
    "cleaned_df['text_length'].hist(bins=50, ax=axes[0,1])\n",
    "axes[0,1].set_title('Text Length Distribution')\n",
    "axes[0,1].set_xlabel('Characters')\n",
    "axes[0,1].set_ylabel('Frequency')\n",
    "\n",
    "# Word count distribution\n",
    "cleaned_df['word_count'].hist(bins=30, ax=axes[1,0])\n",
    "axes[1,0].set_title('Word Count Distribution')\n",
    "axes[1,0].set_xlabel('Words')\n",
    "axes[1,0].set_ylabel('Frequency')\n",
    "\n",
    "# Text length by sentiment\n",
    "for sentiment in cleaned_df['sentiment'].unique():\n",
    "    subset = cleaned_df[cleaned_df['sentiment'] == sentiment]\n",
    "    axes[1,1].hist(subset['text_length'], alpha=0.7, label=sentiment, bins=30)\n",
    "axes[1,1].set_title('Text Length by Sentiment')\n",
    "axes[1,1].set_xlabel('Characters')\n",
    "axes[1,1].set_ylabel('Frequency')\n",
    "axes[1,1].legend()\n",
    "\n",
    "plt.tight_layout()\n",
    "plt.show()"
   ]
  },
  {
   "cell_type": "markdown",
   "metadata": {},
   "source": [
    "## Save Processed Dataset"
   ]
  },
  {
   "cell_type": "code",
   "execution_count": 10,
   "metadata": {},
   "outputs": [
    {
     "name": "stdout",
     "output_type": "stream",
     "text": [
      "Saved cleaned dataset to: ../dataset/processed/cleaned_twitter_data.csv\n",
      "\n",
      "Saved training set (39620 samples) to: ../dataset/processed/train.csv\n",
      "Saved validation set (9906 samples) to: ../dataset/processed/validation.csv\n",
      "\n",
      "Saved BERT training format to: ../dataset/processed/bert_train.csv\n",
      "Saved BERT validation format to: ../dataset/processed/bert_validation.csv\n"
     ]
    }
   ],
   "source": [
    "# Prepare final dataset for BERT training\n",
    "final_df = cleaned_df[['tweet_id', 'sentiment', 'text', 'source_file']].copy()\n",
    "\n",
    "# Save as CSV\n",
    "output_file = output_path / 'cleaned_twitter_data.csv'\n",
    "final_df.to_csv(output_file, index=False)\n",
    "print(f\"Saved cleaned dataset to: {output_file}\")\n",
    "\n",
    "# Save train/validation split (80/20)\n",
    "from sklearn.model_selection import train_test_split\n",
    "\n",
    "train_df, val_df = train_test_split(\n",
    "    final_df, \n",
    "    test_size=0.2, \n",
    "    random_state=42, \n",
    "    stratify=final_df['sentiment']\n",
    ")\n",
    "\n",
    "train_file = output_path / 'train.csv'\n",
    "val_file = output_path / 'validation.csv'\n",
    "\n",
    "train_df.to_csv(train_file, index=False)\n",
    "val_df.to_csv(val_file, index=False)\n",
    "\n",
    "print(f\"\\nSaved training set ({len(train_df)} samples) to: {train_file}\")\n",
    "print(f\"Saved validation set ({len(val_df)} samples) to: {val_file}\")\n",
    "\n",
    "# Save BERT-ready format (text and labels only)\n",
    "bert_train = train_df[['text', 'sentiment']]\n",
    "bert_val = val_df[['text', 'sentiment']]\n",
    "\n",
    "bert_train_file = output_path / 'bert_train.csv'\n",
    "bert_val_file = output_path / 'bert_validation.csv'\n",
    "\n",
    "bert_train.to_csv(bert_train_file, index=False)\n",
    "bert_val.to_csv(bert_val_file, index=False)\n",
    "\n",
    "print(f\"\\nSaved BERT training format to: {bert_train_file}\")\n",
    "print(f\"Saved BERT validation format to: {bert_val_file}\")"
   ]
  },
  {
   "cell_type": "markdown",
   "metadata": {},
   "source": [
    "## Summary Statistics"
   ]
  },
  {
   "cell_type": "code",
   "execution_count": 11,
   "metadata": {},
   "outputs": [
    {
     "name": "stdout",
     "output_type": "stream",
     "text": [
      "==================================================\n",
      "DATA PREPROCESSING SUMMARY\n",
      "==================================================\n",
      "Original tweets: 50,334\n",
      "After cleaning: 49,526\n",
      "Reduction: 808 tweets (1.6%)\n",
      "\n",
      "Final sentiment distribution:\n",
      "  neutral: 22,171 (44.8%)\n",
      "  positive: 19,628 (39.6%)\n",
      "  negative: 7,727 (15.6%)\n",
      "\n",
      "Train set: 39,620 samples\n",
      "Validation set: 9,906 samples\n",
      "\n",
      "Files created:\n",
      "  ✓ ../dataset/processed/cleaned_twitter_data.csv\n",
      "  ✓ ../dataset/processed/train.csv\n",
      "  ✓ ../dataset/processed/validation.csv\n",
      "  ✓ ../dataset/processed/bert_train.csv\n",
      "  ✓ ../dataset/processed/bert_validation.csv\n",
      "\n",
      "==================================================\n",
      "Preprocessing completed successfully!\n",
      "==================================================\n"
     ]
    }
   ],
   "source": [
    "print(\"=\" * 50)\n",
    "print(\"DATA PREPROCESSING SUMMARY\")\n",
    "print(\"=\" * 50)\n",
    "print(f\"Original tweets: {len(combined_df):,}\")\n",
    "print(f\"After cleaning: {len(final_df):,}\")\n",
    "print(f\"Reduction: {len(combined_df) - len(final_df):,} tweets ({((len(combined_df) - len(final_df)) / len(combined_df) * 100):.1f}%)\")\n",
    "\n",
    "print(\"\\nFinal sentiment distribution:\")\n",
    "sentiment_counts = final_df['sentiment'].value_counts()\n",
    "for sentiment, count in sentiment_counts.items():\n",
    "    percentage = (count / len(final_df)) * 100\n",
    "    print(f\"  {sentiment}: {count:,} ({percentage:.1f}%)\")\n",
    "\n",
    "print(f\"\\nTrain set: {len(train_df):,} samples\")\n",
    "print(f\"Validation set: {len(val_df):,} samples\")\n",
    "\n",
    "print(\"\\nFiles created:\")\n",
    "for file_path in [output_file, train_file, val_file, bert_train_file, bert_val_file]:\n",
    "    if file_path.exists():\n",
    "        print(f\"  ✓ {file_path}\")\n",
    "    else:\n",
    "        print(f\"  ✗ {file_path}\")\n",
    "\n",
    "print(\"\\n\" + \"=\" * 50)\n",
    "print(\"Preprocessing completed successfully!\")\n",
    "print(\"=\" * 50)"
   ]
  }
 ],
 "metadata": {
  "kernelspec": {
   "display_name": "base",
   "language": "python",
   "name": "python3"
  },
  "language_info": {
   "codemirror_mode": {
    "name": "ipython",
    "version": 3
   },
   "file_extension": ".py",
   "mimetype": "text/x-python",
   "name": "python",
   "nbconvert_exporter": "python",
   "pygments_lexer": "ipython3",
   "version": "3.12.7"
  }
 },
 "nbformat": 4,
 "nbformat_minor": 4
}
