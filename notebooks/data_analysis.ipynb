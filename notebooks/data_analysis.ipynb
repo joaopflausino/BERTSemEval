{
 "cells": [
  {
   "cell_type": "markdown",
   "metadata": {},
   "source": [
    "# Dataset Analysis and Exploration\n",
    "\n",
    "This notebook provides analysis and visualization of the SemEval sentiment analysis dataset."
   ]
  },
  {
   "cell_type": "code",
   "execution_count": null,
   "metadata": {},
   "outputs": [],
   "source": "import sys\nimport os\nfrom pathlib import Path\n\n# Add project root to path\nproject_root = Path('.').parent.resolve()\nsys.path.append(str(project_root))\n\nimport pandas as pd\nimport numpy as np\nimport matplotlib.pyplot as plt\nimport seaborn as sns\nfrom transformers import AutoTokenizer\n\n# Set style\nplt.style.use('seaborn-v0_8')\nsns.set_palette(\"husl\")"
  },
  {
   "cell_type": "markdown",
   "metadata": {},
   "source": [
    "## Load and Explore Dataset"
   ]
  },
  {
   "cell_type": "code",
   "execution_count": 10,
   "metadata": {},
   "outputs": [
    {
     "ename": "ModuleNotFoundError",
     "evalue": "No module named 'src'",
     "output_type": "error",
     "traceback": [
      "\u001b[0;31m---------------------------------------------------------------------------\u001b[0m",
      "\u001b[0;31mModuleNotFoundError\u001b[0m                       Traceback (most recent call last)",
      "Cell \u001b[0;32mIn[10], line 2\u001b[0m\n\u001b[1;32m      1\u001b[0m \u001b[38;5;66;03m# Load dataset using our custom reader\u001b[39;00m\n\u001b[0;32m----> 2\u001b[0m \u001b[38;5;28;01mfrom\u001b[39;00m \u001b[38;5;21;01msrc\u001b[39;00m\u001b[38;5;21;01m.\u001b[39;00m\u001b[38;5;21;01mdata\u001b[39;00m\u001b[38;5;21;01m.\u001b[39;00m\u001b[38;5;21;01mdataset_reader\u001b[39;00m \u001b[38;5;28;01mimport\u001b[39;00m SemEvalDataset\n\u001b[1;32m      4\u001b[0m tokenizer \u001b[38;5;241m=\u001b[39m AutoTokenizer\u001b[38;5;241m.\u001b[39mfrom_pretrained(\u001b[38;5;124m'\u001b[39m\u001b[38;5;124mbert-base-uncased\u001b[39m\u001b[38;5;124m'\u001b[39m)\n\u001b[1;32m      5\u001b[0m train_dataset \u001b[38;5;241m=\u001b[39m SemEvalDataset(\u001b[38;5;124m'\u001b[39m\u001b[38;5;124m../dataset/train\u001b[39m\u001b[38;5;124m'\u001b[39m, tokenizer)\n",
      "\u001b[0;31mModuleNotFoundError\u001b[0m: No module named 'src'"
     ]
    }
   ],
   "source": [
    "# Load dataset using our custom reader\n",
    "from src.data.dataset_reader import SemEvalDataset\n",
    "\n",
    "tokenizer = AutoTokenizer.from_pretrained('bert-base-uncased')\n",
    "train_dataset = SemEvalDataset('../dataset/train', tokenizer)\n",
    "test_dataset = SemEvalDataset('../dataset/test/SemEval2017-task4-test.subtask-A.english.txt', tokenizer)\n",
    "\n",
    "print(f\"Training samples: {len(train_dataset)}\")\n",
    "print(f\"Test samples: {len(test_dataset)}\")"
   ]
  },
  {
   "cell_type": "code",
   "execution_count": null,
   "metadata": {},
   "outputs": [],
   "source": [
    "# Extract data for analysis\n",
    "train_texts = [item['text'] for item in train_dataset.data]\n",
    "train_labels = [item['label'] for item in train_dataset.data]\n",
    "\n",
    "test_texts = [item['text'] for item in test_dataset.data]\n",
    "test_labels = [item['label'] for item in test_dataset.data]\n",
    "\n",
    "class_names = ['negative', 'neutral', 'positive']"
   ]
  },
  {
   "cell_type": "markdown",
   "metadata": {},
   "source": [
    "## Dataset Statistics"
   ]
  },
  {
   "cell_type": "code",
   "execution_count": null,
   "metadata": {},
   "outputs": [],
   "source": [
    "# Class distribution\n",
    "train_counts = pd.Series(train_labels).value_counts().sort_index()\n",
    "test_counts = pd.Series(test_labels).value_counts().sort_index()\n",
    "\n",
    "fig, axes = plt.subplots(1, 2, figsize=(12, 5))\n",
    "\n",
    "# Training set distribution\n",
    "axes[0].bar([class_names[i] for i in train_counts.index], train_counts.values, alpha=0.7)\n",
    "axes[0].set_title('Training Set Class Distribution')\n",
    "axes[0].set_ylabel('Count')\n",
    "for i, v in enumerate(train_counts.values):\n",
    "    axes[0].text(i, v + 50, str(v), ha='center', va='bottom')\n",
    "\n",
    "# Test set distribution\n",
    "axes[1].bar([class_names[i] for i in test_counts.index], test_counts.values, alpha=0.7)\n",
    "axes[1].set_title('Test Set Class Distribution')\n",
    "axes[1].set_ylabel('Count')\n",
    "for i, v in enumerate(test_counts.values):\n",
    "    axes[1].text(i, v + 20, str(v), ha='center', va='bottom')\n",
    "\n",
    "plt.tight_layout()\n",
    "plt.show()"
   ]
  },
  {
   "cell_type": "markdown",
   "metadata": {},
   "source": [
    "## Text Length Analysis"
   ]
  },
  {
   "cell_type": "code",
   "execution_count": null,
   "metadata": {},
   "outputs": [],
   "source": [
    "# Analyze text lengths\n",
    "train_lengths = [len(text.split()) for text in train_texts]\n",
    "test_lengths = [len(text.split()) for text in test_texts]\n",
    "\n",
    "# Token lengths (with BERT tokenizer)\n",
    "train_token_lengths = [len(tokenizer.tokenize(text)) for text in train_texts[:1000]]  # Sample for speed\n",
    "test_token_lengths = [len(tokenizer.tokenize(text)) for text in test_texts]\n",
    "\n",
    "fig, axes = plt.subplots(2, 2, figsize=(15, 10))\n",
    "\n",
    "# Word lengths\n",
    "axes[0, 0].hist(train_lengths, bins=50, alpha=0.7, label='Train')\n",
    "axes[0, 0].hist(test_lengths, bins=50, alpha=0.7, label='Test')\n",
    "axes[0, 0].set_title('Distribution of Text Lengths (Words)')\n",
    "axes[0, 0].set_xlabel('Number of Words')\n",
    "axes[0, 0].set_ylabel('Frequency')\n",
    "axes[0, 0].legend()\n",
    "\n",
    "# Token lengths\n",
    "axes[0, 1].hist(train_token_lengths, bins=50, alpha=0.7, label='Train (sample)')\n",
    "axes[0, 1].hist(test_token_lengths, bins=50, alpha=0.7, label='Test')\n",
    "axes[0, 1].set_title('Distribution of Token Lengths (BERT)')\n",
    "axes[0, 1].set_xlabel('Number of Tokens')\n",
    "axes[0, 1].set_ylabel('Frequency')\n",
    "axes[0, 1].legend()\n",
    "\n",
    "# Box plots\n",
    "data_to_plot = [train_lengths, test_lengths]\n",
    "axes[1, 0].boxplot(data_to_plot, labels=['Train', 'Test'])\n",
    "axes[1, 0].set_title('Text Length Distribution (Words)')\n",
    "axes[1, 0].set_ylabel('Number of Words')\n",
    "\n",
    "data_to_plot_tokens = [train_token_lengths, test_token_lengths]\n",
    "axes[1, 1].boxplot(data_to_plot_tokens, labels=['Train (sample)', 'Test'])\n",
    "axes[1, 1].set_title('Token Length Distribution (BERT)')\n",
    "axes[1, 1].set_ylabel('Number of Tokens')\n",
    "\n",
    "plt.tight_layout()\n",
    "plt.show()\n",
    "\n",
    "print(f\"Training text lengths - Mean: {np.mean(train_lengths):.1f}, Std: {np.std(train_lengths):.1f}\")\n",
    "print(f\"Test text lengths - Mean: {np.mean(test_lengths):.1f}, Std: {np.std(test_lengths):.1f}\")\n",
    "print(f\"Training token lengths - Mean: {np.mean(train_token_lengths):.1f}, Std: {np.std(train_token_lengths):.1f}\")\n",
    "print(f\"Test token lengths - Mean: {np.mean(test_token_lengths):.1f}, Std: {np.std(test_token_lengths):.1f}\")"
   ]
  },
  {
   "cell_type": "markdown",
   "metadata": {},
   "source": [
    "## Sample Texts by Class"
   ]
  },
  {
   "cell_type": "code",
   "execution_count": null,
   "metadata": {},
   "outputs": [],
   "source": [
    "# Show sample texts for each class\n",
    "for label_idx, class_name in enumerate(class_names):\n",
    "    print(f\"\\n{'='*50}\")\n",
    "    print(f\"Sample {class_name.upper()} texts:\")\n",
    "    print('='*50)\n",
    "    \n",
    "    # Get samples of this class\n",
    "    class_samples = [text for text, label in zip(train_texts, train_labels) if label == label_idx]\n",
    "    \n",
    "    # Show first 3 samples\n",
    "    for i, text in enumerate(class_samples[:3]):\n",
    "        print(f\"{i+1}. {text}\")\n",
    "        print()"
   ]
  },
  {
   "cell_type": "markdown",
   "metadata": {},
   "source": [
    "## Tokenization Analysis"
   ]
  },
  {
   "cell_type": "code",
   "execution_count": null,
   "metadata": {},
   "outputs": [],
   "source": [
    "# Analyze how many texts would be truncated at different max lengths\n",
    "max_lengths = [64, 128, 256, 512]\n",
    "truncation_stats = {}\n",
    "\n",
    "for max_len in max_lengths:\n",
    "    train_truncated = sum(1 for length in train_token_lengths if length > max_len)\n",
    "    test_truncated = sum(1 for length in test_token_lengths if length > max_len)\n",
    "    \n",
    "    truncation_stats[max_len] = {\n",
    "        'train_truncated': train_truncated,\n",
    "        'train_pct': (train_truncated / len(train_token_lengths)) * 100,\n",
    "        'test_truncated': test_truncated,\n",
    "        'test_pct': (test_truncated / len(test_token_lengths)) * 100\n",
    "    }\n",
    "\n",
    "# Display truncation statistics\n",
    "print(\"Truncation Analysis:\")\n",
    "print(\"Max Length | Train Truncated (%) | Test Truncated (%)\")\n",
    "print(\"-\" * 55)\n",
    "for max_len, stats in truncation_stats.items():\n",
    "    print(f\"{max_len:^10} | {stats['train_pct']:^17.1f} | {stats['test_pct']:^16.1f}\")"
   ]
  },
  {
   "cell_type": "code",
   "execution_count": null,
   "metadata": {},
   "outputs": [],
   "source": []
  }
 ],
 "metadata": {
  "kernelspec": {
   "display_name": "base",
   "language": "python",
   "name": "python3"
  },
  "language_info": {
   "codemirror_mode": {
    "name": "ipython",
    "version": 3
   },
   "file_extension": ".py",
   "mimetype": "text/x-python",
   "name": "python",
   "nbconvert_exporter": "python",
   "pygments_lexer": "ipython3",
   "version": "3.12.7"
  }
 },
 "nbformat": 4,
 "nbformat_minor": 4
}